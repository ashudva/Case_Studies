{
 "cells": [
  {
   "cell_type": "code",
   "execution_count": 151,
   "metadata": {},
   "outputs": [
    {
     "data": {
      "text/html": [
       "<div>\n",
       "<style scoped>\n",
       "    .dataframe tbody tr th:only-of-type {\n",
       "        vertical-align: middle;\n",
       "    }\n",
       "\n",
       "    .dataframe tbody tr th {\n",
       "        vertical-align: top;\n",
       "    }\n",
       "\n",
       "    .dataframe thead th {\n",
       "        text-align: right;\n",
       "    }\n",
       "</style>\n",
       "<table border=\"1\" class=\"dataframe\">\n",
       "  <thead>\n",
       "    <tr style=\"text-align: right;\">\n",
       "      <th></th>\n",
       "      <th>altitude</th>\n",
       "      <th>date_time</th>\n",
       "      <th>device_info_serial</th>\n",
       "      <th>direction</th>\n",
       "      <th>latitude</th>\n",
       "      <th>longitude</th>\n",
       "      <th>speed_2d</th>\n",
       "      <th>bird_name</th>\n",
       "    </tr>\n",
       "  </thead>\n",
       "  <tbody>\n",
       "    <tr>\n",
       "      <th>0</th>\n",
       "      <td>71</td>\n",
       "      <td>2013-08-15 00:18:08+00</td>\n",
       "      <td>851</td>\n",
       "      <td>-150.469753</td>\n",
       "      <td>49.419860</td>\n",
       "      <td>2.120733</td>\n",
       "      <td>0.150000</td>\n",
       "      <td>Eric</td>\n",
       "    </tr>\n",
       "    <tr>\n",
       "      <th>1</th>\n",
       "      <td>68</td>\n",
       "      <td>2013-08-15 00:48:07+00</td>\n",
       "      <td>851</td>\n",
       "      <td>-136.151141</td>\n",
       "      <td>49.419880</td>\n",
       "      <td>2.120746</td>\n",
       "      <td>2.438360</td>\n",
       "      <td>Eric</td>\n",
       "    </tr>\n",
       "    <tr>\n",
       "      <th>2</th>\n",
       "      <td>68</td>\n",
       "      <td>2013-08-15 01:17:58+00</td>\n",
       "      <td>851</td>\n",
       "      <td>160.797477</td>\n",
       "      <td>49.420310</td>\n",
       "      <td>2.120885</td>\n",
       "      <td>0.596657</td>\n",
       "      <td>Eric</td>\n",
       "    </tr>\n",
       "    <tr>\n",
       "      <th>3</th>\n",
       "      <td>73</td>\n",
       "      <td>2013-08-15 01:47:51+00</td>\n",
       "      <td>851</td>\n",
       "      <td>32.769360</td>\n",
       "      <td>49.420359</td>\n",
       "      <td>2.120859</td>\n",
       "      <td>0.310161</td>\n",
       "      <td>Eric</td>\n",
       "    </tr>\n",
       "    <tr>\n",
       "      <th>4</th>\n",
       "      <td>69</td>\n",
       "      <td>2013-08-15 02:17:42+00</td>\n",
       "      <td>851</td>\n",
       "      <td>45.191230</td>\n",
       "      <td>49.420331</td>\n",
       "      <td>2.120887</td>\n",
       "      <td>0.193132</td>\n",
       "      <td>Eric</td>\n",
       "    </tr>\n",
       "  </tbody>\n",
       "</table>\n",
       "</div>"
      ],
      "text/plain": [
       "   altitude               date_time  device_info_serial   direction   latitude  longitude  speed_2d bird_name\n",
       "0        71  2013-08-15 00:18:08+00                 851 -150.469753  49.419860   2.120733  0.150000      Eric\n",
       "1        68  2013-08-15 00:48:07+00                 851 -136.151141  49.419880   2.120746  2.438360      Eric\n",
       "2        68  2013-08-15 01:17:58+00                 851  160.797477  49.420310   2.120885  0.596657      Eric\n",
       "3        73  2013-08-15 01:47:51+00                 851   32.769360  49.420359   2.120859  0.310161      Eric\n",
       "4        69  2013-08-15 02:17:42+00                 851   45.191230  49.420331   2.120887  0.193132      Eric"
      ]
     },
     "execution_count": 151,
     "metadata": {},
     "output_type": "execute_result"
    }
   ],
   "source": [
    "import pandas as pd\n",
    "import numpy as np\n",
    "import matplotlib.pyplot as plt\n",
    "%matplotlib inline\n",
    "\n",
    "birddata = pd.read_csv(\"bird_tracking.csv\", index_col=0)\n",
    "birddata.head()"
   ]
  },
  {
   "cell_type": "code",
   "execution_count": 152,
   "metadata": {},
   "outputs": [
    {
     "data": {
      "text/plain": [
       "<bound method DataFrame.info of        altitude               date_time  device_info_serial   direction   latitude  longitude  speed_2d bird_name\n",
       "0            71  2013-08-15 00:18:08+00                 851 -150.469753  49.419860   2.120733  0.150000      Eric\n",
       "1            68  2013-08-15 00:48:07+00                 851 -136.151141  49.419880   2.120746  2.438360      Eric\n",
       "2            68  2013-08-15 01:17:58+00                 851  160.797477  49.420310   2.120885  0.596657      Eric\n",
       "3            73  2013-08-15 01:47:51+00                 851   32.769360  49.420359   2.120859  0.310161      Eric\n",
       "4            69  2013-08-15 02:17:42+00                 851   45.191230  49.420331   2.120887  0.193132      Eric\n",
       "...         ...                     ...                 ...         ...        ...        ...       ...       ...\n",
       "61915        11  2014-04-30 22:00:08+00                 833   45.448157  51.352572   3.177151  0.208087     Sanne\n",
       "61916         6  2014-04-30 22:29:57+00                 833 -112.073055  51.352585   3.177144  1.522662     Sanne\n",
       "61917         5  2014-04-30 22:59:52+00                 833   69.989037  51.352622   3.177257  3.120545     Sanne\n",
       "61918        16  2014-04-30 23:29:43+00                 833   88.376373  51.354641   3.181509  0.592115     Sanne\n",
       "61919         9  2014-04-30 23:59:34+00                 833  149.949008  51.354474   3.181057  0.485489     Sanne\n",
       "\n",
       "[61920 rows x 8 columns]>"
      ]
     },
     "execution_count": 152,
     "metadata": {},
     "output_type": "execute_result"
    }
   ],
   "source": [
    "birddata.info"
   ]
  },
  {
   "cell_type": "code",
   "execution_count": 153,
   "metadata": {},
   "outputs": [
    {
     "data": {
      "text/html": [
       "<div>\n",
       "<style scoped>\n",
       "    .dataframe tbody tr th:only-of-type {\n",
       "        vertical-align: middle;\n",
       "    }\n",
       "\n",
       "    .dataframe tbody tr th {\n",
       "        vertical-align: top;\n",
       "    }\n",
       "\n",
       "    .dataframe thead th {\n",
       "        text-align: right;\n",
       "    }\n",
       "</style>\n",
       "<table border=\"1\" class=\"dataframe\">\n",
       "  <thead>\n",
       "    <tr style=\"text-align: right;\">\n",
       "      <th></th>\n",
       "      <th>altitude</th>\n",
       "      <th>date_time</th>\n",
       "      <th>device_info_serial</th>\n",
       "      <th>direction</th>\n",
       "      <th>latitude</th>\n",
       "      <th>longitude</th>\n",
       "      <th>speed_2d</th>\n",
       "      <th>bird_name</th>\n",
       "    </tr>\n",
       "  </thead>\n",
       "  <tbody>\n",
       "    <tr>\n",
       "      <th>61915</th>\n",
       "      <td>11</td>\n",
       "      <td>2014-04-30 22:00:08+00</td>\n",
       "      <td>833</td>\n",
       "      <td>45.448157</td>\n",
       "      <td>51.352572</td>\n",
       "      <td>3.177151</td>\n",
       "      <td>0.208087</td>\n",
       "      <td>Sanne</td>\n",
       "    </tr>\n",
       "    <tr>\n",
       "      <th>61916</th>\n",
       "      <td>6</td>\n",
       "      <td>2014-04-30 22:29:57+00</td>\n",
       "      <td>833</td>\n",
       "      <td>-112.073055</td>\n",
       "      <td>51.352585</td>\n",
       "      <td>3.177144</td>\n",
       "      <td>1.522662</td>\n",
       "      <td>Sanne</td>\n",
       "    </tr>\n",
       "    <tr>\n",
       "      <th>61917</th>\n",
       "      <td>5</td>\n",
       "      <td>2014-04-30 22:59:52+00</td>\n",
       "      <td>833</td>\n",
       "      <td>69.989037</td>\n",
       "      <td>51.352622</td>\n",
       "      <td>3.177257</td>\n",
       "      <td>3.120545</td>\n",
       "      <td>Sanne</td>\n",
       "    </tr>\n",
       "    <tr>\n",
       "      <th>61918</th>\n",
       "      <td>16</td>\n",
       "      <td>2014-04-30 23:29:43+00</td>\n",
       "      <td>833</td>\n",
       "      <td>88.376373</td>\n",
       "      <td>51.354641</td>\n",
       "      <td>3.181509</td>\n",
       "      <td>0.592115</td>\n",
       "      <td>Sanne</td>\n",
       "    </tr>\n",
       "    <tr>\n",
       "      <th>61919</th>\n",
       "      <td>9</td>\n",
       "      <td>2014-04-30 23:59:34+00</td>\n",
       "      <td>833</td>\n",
       "      <td>149.949008</td>\n",
       "      <td>51.354474</td>\n",
       "      <td>3.181057</td>\n",
       "      <td>0.485489</td>\n",
       "      <td>Sanne</td>\n",
       "    </tr>\n",
       "  </tbody>\n",
       "</table>\n",
       "</div>"
      ],
      "text/plain": [
       "       altitude               date_time  device_info_serial   direction   latitude  longitude  speed_2d bird_name\n",
       "61915        11  2014-04-30 22:00:08+00                 833   45.448157  51.352572   3.177151  0.208087     Sanne\n",
       "61916         6  2014-04-30 22:29:57+00                 833 -112.073055  51.352585   3.177144  1.522662     Sanne\n",
       "61917         5  2014-04-30 22:59:52+00                 833   69.989037  51.352622   3.177257  3.120545     Sanne\n",
       "61918        16  2014-04-30 23:29:43+00                 833   88.376373  51.354641   3.181509  0.592115     Sanne\n",
       "61919         9  2014-04-30 23:59:34+00                 833  149.949008  51.354474   3.181057  0.485489     Sanne"
      ]
     },
     "execution_count": 153,
     "metadata": {},
     "output_type": "execute_result"
    }
   ],
   "source": [
    "birddata.tail()"
   ]
  },
  {
   "cell_type": "markdown",
   "metadata": {},
   "source": [
    "The data consists of almost **62,000** data points and 9 features or columns"
   ]
  },
  {
   "cell_type": "code",
   "execution_count": 154,
   "metadata": {},
   "outputs": [
    {
     "data": {
      "text/plain": [
       "Nico     21121\n",
       "Sanne    21004\n",
       "Eric     19795\n",
       "Name: bird_name, dtype: int64"
      ]
     },
     "execution_count": 154,
     "metadata": {},
     "output_type": "execute_result"
    }
   ],
   "source": [
    "birddata.bird_name.value_counts()"
   ]
  },
  {
   "cell_type": "markdown",
   "metadata": {},
   "source": [
    "There are **3 types of birds** in our dataset, named *Nico*, *Sanne*, *Eric*"
   ]
  },
  {
   "cell_type": "markdown",
   "metadata": {},
   "source": [
    "Linear estimation - because the earth is not flat - of flight trajectory of bird migration of a particular bird **\"Eric\"**. The trajectory will be substantially distorted because we have not done any *Cartographic Projection* of the flight trajectory."
   ]
  },
  {
   "cell_type": "markdown",
   "metadata": {},
   "source": [
    "This plot is just to get a rought look at the flight trajectory of a bird"
   ]
  },
  {
   "cell_type": "code",
   "execution_count": 155,
   "metadata": {},
   "outputs": [
    {
     "data": {
      "image/png": "[encoded data removed]",
      "text/plain": [
       "<Figure size 504x504 with 1 Axes>"
      ]
     },
     "metadata": {
      "needs_background": "light"
     },
     "output_type": "display_data"
    }
   ],
   "source": [
    "ind = birddata.bird_name == \"Eric\"\n",
    "x, y = birddata.longitude[ind], birddata.latitude[ind]\n",
    "plt.figure(figsize=(7,7))\n",
    "plt.plot(x, y, \"o\", ms=2)\n",
    "plt.savefig(\"Eric_migration_2D_traj.pdf\")\n",
    "plt.xlabel(\"Longitude\")\n",
    "plt.ylabel(\"Latitude\")\n",
    "plt.title(\"Eric flight trajectory\")\n",
    "plt.show()"
   ]
  },
  {
   "cell_type": "markdown",
   "metadata": {},
   "source": [
    "Let's plot the flight trajectory for all of three birds"
   ]
  },
  {
   "cell_type": "code",
   "execution_count": 156,
   "metadata": {},
   "outputs": [
    {
     "data": {
      "image/png": "[encoded data removed]",
      "text/plain": [
       "<Figure size 504x504 with 1 Axes>"
      ]
     },
     "metadata": {
      "needs_background": "light"
     },
     "output_type": "display_data"
    }
   ],
   "source": [
    "birds = birddata.bird_name.unique()\n",
    "plt.figure(figsize=(7,7))\n",
    "for bird in birds:\n",
    "    ind = birddata.bird_name == bird\n",
    "    x, y = birddata.longitude[ind], birddata.latitude[ind]\n",
    "    plt.plot(x, y, \"o\", ms=2, label=bird)\n",
    "plt.xlabel(\"Longitude\")\n",
    "plt.ylabel(\"Latitude\")\n",
    "plt.title(\"Birds flight trajectory\")\n",
    "plt.legend(loc=\"lower right\")\n",
    "plt.savefig(\"birds_flight_traj.pdf\")\n",
    "plt.show()"
   ]
  },
  {
   "cell_type": "markdown",
   "metadata": {},
   "source": [
    "To further proceed, we would like to chech if our data consists of **missing values** and handle them accordingly\n",
    "We'll be using sklearn for the preprocessing of the data and handling the missing values"
   ]
  },
  {
   "cell_type": "code",
   "execution_count": 157,
   "metadata": {},
   "outputs": [
    {
     "data": {
      "text/plain": [
       "altitude                0\n",
       "date_time               0\n",
       "device_info_serial      0\n",
       "direction             443\n",
       "latitude                0\n",
       "longitude               0\n",
       "speed_2d              443\n",
       "bird_name               0\n",
       "dtype: int64"
      ]
     },
     "execution_count": 157,
     "metadata": {},
     "output_type": "execute_result"
    }
   ],
   "source": [
    "birddata.isnull().sum()"
   ]
  },
  {
   "cell_type": "markdown",
   "metadata": {},
   "source": [
    "Two columns *direction* and *speed_2d* consists of same no. of missing values but for **direction** column **mean is not an appropriate approximation**. Therefor we'll first impute **speed_2d** with mean and then we'll use **n_neighbours strategy** for imputation of **direction**"
   ]
  },
  {
   "cell_type": "code",
   "execution_count": 158,
   "metadata": {},
   "outputs": [],
   "source": [
    "from sklearn.impute import SimpleImputer, KNNImputer\n",
    "# default args are what we want i.e. missing_values=nan, strategy='mean'\n",
    "imputer = SimpleImputer()\n",
    "birddata[\"speed_2d\"] = imputer.fit_transform(birddata[['speed_2d']])"
   ]
  },
  {
   "cell_type": "code",
   "execution_count": 159,
   "metadata": {},
   "outputs": [
    {
     "data": {
      "text/plain": [
       "altitude                0\n",
       "date_time               0\n",
       "device_info_serial      0\n",
       "direction             443\n",
       "latitude                0\n",
       "longitude               0\n",
       "speed_2d                0\n",
       "bird_name               0\n",
       "dtype: int64"
      ]
     },
     "execution_count": 159,
     "metadata": {},
     "output_type": "execute_result"
    }
   ],
   "source": [
    "birddata.isnull().sum()"
   ]
  },
  {
   "cell_type": "markdown",
   "metadata": {},
   "source": [
    "Let's impute the **direction** column with default args"
   ]
  },
  {
   "cell_type": "code",
   "execution_count": 160,
   "metadata": {
    "scrolled": true
   },
   "outputs": [],
   "source": [
    "imputer = KNNImputer()\n",
    "imputer.fit(birddata.loc[:, 'direction':'speed_2d'])\n",
    "birddata.loc[:, 'direction':'speed_2d'] = imputer.transform(birddata.loc[:, 'direction':'speed_2d'])"
   ]
  },
  {
   "cell_type": "code",
   "execution_count": 161,
   "metadata": {},
   "outputs": [
    {
     "data": {
      "text/html": [
       "<div>\n",
       "<style scoped>\n",
       "    .dataframe tbody tr th:only-of-type {\n",
       "        vertical-align: middle;\n",
       "    }\n",
       "\n",
       "    .dataframe tbody tr th {\n",
       "        vertical-align: top;\n",
       "    }\n",
       "\n",
       "    .dataframe thead th {\n",
       "        text-align: right;\n",
       "    }\n",
       "</style>\n",
       "<table border=\"1\" class=\"dataframe\">\n",
       "  <thead>\n",
       "    <tr style=\"text-align: right;\">\n",
       "      <th></th>\n",
       "      <th>altitude</th>\n",
       "      <th>date_time</th>\n",
       "      <th>device_info_serial</th>\n",
       "      <th>direction</th>\n",
       "      <th>latitude</th>\n",
       "      <th>longitude</th>\n",
       "      <th>speed_2d</th>\n",
       "      <th>bird_name</th>\n",
       "    </tr>\n",
       "  </thead>\n",
       "  <tbody>\n",
       "    <tr>\n",
       "      <th>61915</th>\n",
       "      <td>11</td>\n",
       "      <td>2014-04-30 22:00:08+00</td>\n",
       "      <td>833</td>\n",
       "      <td>45.448157</td>\n",
       "      <td>51.352572</td>\n",
       "      <td>3.177151</td>\n",
       "      <td>0.208087</td>\n",
       "      <td>Sanne</td>\n",
       "    </tr>\n",
       "    <tr>\n",
       "      <th>61916</th>\n",
       "      <td>6</td>\n",
       "      <td>2014-04-30 22:29:57+00</td>\n",
       "      <td>833</td>\n",
       "      <td>-112.073055</td>\n",
       "      <td>51.352585</td>\n",
       "      <td>3.177144</td>\n",
       "      <td>1.522662</td>\n",
       "      <td>Sanne</td>\n",
       "    </tr>\n",
       "    <tr>\n",
       "      <th>61917</th>\n",
       "      <td>5</td>\n",
       "      <td>2014-04-30 22:59:52+00</td>\n",
       "      <td>833</td>\n",
       "      <td>69.989037</td>\n",
       "      <td>51.352622</td>\n",
       "      <td>3.177257</td>\n",
       "      <td>3.120545</td>\n",
       "      <td>Sanne</td>\n",
       "    </tr>\n",
       "    <tr>\n",
       "      <th>61918</th>\n",
       "      <td>16</td>\n",
       "      <td>2014-04-30 23:29:43+00</td>\n",
       "      <td>833</td>\n",
       "      <td>88.376373</td>\n",
       "      <td>51.354641</td>\n",
       "      <td>3.181509</td>\n",
       "      <td>0.592115</td>\n",
       "      <td>Sanne</td>\n",
       "    </tr>\n",
       "    <tr>\n",
       "      <th>61919</th>\n",
       "      <td>9</td>\n",
       "      <td>2014-04-30 23:59:34+00</td>\n",
       "      <td>833</td>\n",
       "      <td>149.949008</td>\n",
       "      <td>51.354474</td>\n",
       "      <td>3.181057</td>\n",
       "      <td>0.485489</td>\n",
       "      <td>Sanne</td>\n",
       "    </tr>\n",
       "  </tbody>\n",
       "</table>\n",
       "</div>"
      ],
      "text/plain": [
       "       altitude               date_time  device_info_serial   direction   latitude  longitude  speed_2d bird_name\n",
       "61915        11  2014-04-30 22:00:08+00                 833   45.448157  51.352572   3.177151  0.208087     Sanne\n",
       "61916         6  2014-04-30 22:29:57+00                 833 -112.073055  51.352585   3.177144  1.522662     Sanne\n",
       "61917         5  2014-04-30 22:59:52+00                 833   69.989037  51.352622   3.177257  3.120545     Sanne\n",
       "61918        16  2014-04-30 23:29:43+00                 833   88.376373  51.354641   3.181509  0.592115     Sanne\n",
       "61919         9  2014-04-30 23:59:34+00                 833  149.949008  51.354474   3.181057  0.485489     Sanne"
      ]
     },
     "execution_count": 161,
     "metadata": {},
     "output_type": "execute_result"
    }
   ],
   "source": [
    "birddata.tail()"
   ]
  },
  {
   "cell_type": "markdown",
   "metadata": {},
   "source": [
    "Ommit the last row as it's unnecessarily introduced into the dataset."
   ]
  },
  {
   "cell_type": "code",
   "execution_count": 162,
   "metadata": {},
   "outputs": [
    {
     "data": {
      "text/html": [
       "<div>\n",
       "<style scoped>\n",
       "    .dataframe tbody tr th:only-of-type {\n",
       "        vertical-align: middle;\n",
       "    }\n",
       "\n",
       "    .dataframe tbody tr th {\n",
       "        vertical-align: top;\n",
       "    }\n",
       "\n",
       "    .dataframe thead th {\n",
       "        text-align: right;\n",
       "    }\n",
       "</style>\n",
       "<table border=\"1\" class=\"dataframe\">\n",
       "  <thead>\n",
       "    <tr style=\"text-align: right;\">\n",
       "      <th></th>\n",
       "      <th>altitude</th>\n",
       "      <th>date_time</th>\n",
       "      <th>device_info_serial</th>\n",
       "      <th>direction</th>\n",
       "      <th>latitude</th>\n",
       "      <th>longitude</th>\n",
       "      <th>speed_2d</th>\n",
       "      <th>bird_name</th>\n",
       "    </tr>\n",
       "  </thead>\n",
       "  <tbody>\n",
       "    <tr>\n",
       "      <th>61914</th>\n",
       "      <td>-10</td>\n",
       "      <td>2014-04-30 21:29:45+00</td>\n",
       "      <td>833</td>\n",
       "      <td>-10.057916</td>\n",
       "      <td>51.352661</td>\n",
       "      <td>3.177122</td>\n",
       "      <td>5.531148</td>\n",
       "      <td>Sanne</td>\n",
       "    </tr>\n",
       "    <tr>\n",
       "      <th>61915</th>\n",
       "      <td>11</td>\n",
       "      <td>2014-04-30 22:00:08+00</td>\n",
       "      <td>833</td>\n",
       "      <td>45.448157</td>\n",
       "      <td>51.352572</td>\n",
       "      <td>3.177151</td>\n",
       "      <td>0.208087</td>\n",
       "      <td>Sanne</td>\n",
       "    </tr>\n",
       "    <tr>\n",
       "      <th>61916</th>\n",
       "      <td>6</td>\n",
       "      <td>2014-04-30 22:29:57+00</td>\n",
       "      <td>833</td>\n",
       "      <td>-112.073055</td>\n",
       "      <td>51.352585</td>\n",
       "      <td>3.177144</td>\n",
       "      <td>1.522662</td>\n",
       "      <td>Sanne</td>\n",
       "    </tr>\n",
       "    <tr>\n",
       "      <th>61917</th>\n",
       "      <td>5</td>\n",
       "      <td>2014-04-30 22:59:52+00</td>\n",
       "      <td>833</td>\n",
       "      <td>69.989037</td>\n",
       "      <td>51.352622</td>\n",
       "      <td>3.177257</td>\n",
       "      <td>3.120545</td>\n",
       "      <td>Sanne</td>\n",
       "    </tr>\n",
       "    <tr>\n",
       "      <th>61918</th>\n",
       "      <td>16</td>\n",
       "      <td>2014-04-30 23:29:43+00</td>\n",
       "      <td>833</td>\n",
       "      <td>88.376373</td>\n",
       "      <td>51.354641</td>\n",
       "      <td>3.181509</td>\n",
       "      <td>0.592115</td>\n",
       "      <td>Sanne</td>\n",
       "    </tr>\n",
       "  </tbody>\n",
       "</table>\n",
       "</div>"
      ],
      "text/plain": [
       "       altitude               date_time  device_info_serial   direction   latitude  longitude  speed_2d bird_name\n",
       "61914       -10  2014-04-30 21:29:45+00                 833  -10.057916  51.352661   3.177122  5.531148     Sanne\n",
       "61915        11  2014-04-30 22:00:08+00                 833   45.448157  51.352572   3.177151  0.208087     Sanne\n",
       "61916         6  2014-04-30 22:29:57+00                 833 -112.073055  51.352585   3.177144  1.522662     Sanne\n",
       "61917         5  2014-04-30 22:59:52+00                 833   69.989037  51.352622   3.177257  3.120545     Sanne\n",
       "61918        16  2014-04-30 23:29:43+00                 833   88.376373  51.354641   3.181509  0.592115     Sanne"
      ]
     },
     "execution_count": 162,
     "metadata": {},
     "output_type": "execute_result"
    }
   ],
   "source": [
    "birddata = birddata.iloc[:-1, :]\n",
    "birddata.tail()"
   ]
  },
  {
   "cell_type": "code",
   "execution_count": 163,
   "metadata": {},
   "outputs": [
    {
     "data": {
      "text/plain": [
       "altitude              0\n",
       "date_time             0\n",
       "device_info_serial    0\n",
       "direction             0\n",
       "latitude              0\n",
       "longitude             0\n",
       "speed_2d              0\n",
       "bird_name             0\n",
       "dtype: int64"
      ]
     },
     "execution_count": 163,
     "metadata": {},
     "output_type": "execute_result"
    }
   ],
   "source": [
    "birddata.isnull().sum()"
   ]
  },
  {
   "cell_type": "markdown",
   "metadata": {},
   "source": [
    "Let's try plotting a *histogram* of *speed_2d* for a particular bird **Eric** "
   ]
  },
  {
   "cell_type": "code",
   "execution_count": 164,
   "metadata": {},
   "outputs": [
    {
     "data": {
      "image/png": "[encoded data removed]",
      "text/plain": [
       "<Figure size 504x504 with 1 Axes>"
      ]
     },
     "metadata": {
      "needs_background": "light"
     },
     "output_type": "display_data"
    }
   ],
   "source": [
    "# ind is already defined above for \"Eric\"\n",
    "speed = birddata.speed_2d[ind]\n",
    "plt.figure(figsize=(7,7))\n",
    "plt.hist(speed, bins=np.linspace(0,30,20), density=True)\n",
    "plt.title(\"Eric 2D speed Histogram\")\n",
    "plt.xlabel(\"Speed (m/s)\")\n",
    "plt.ylabel(\"Frequency\")\n",
    "plt.savefig(\"Eric_2D_speed_hist.pdf\")\n",
    "plt.show()"
   ]
  },
  {
   "cell_type": "markdown",
   "metadata": {},
   "source": [
    "Notice that in our dataset we have a column that consists of datetime, so lets check what is the datatype of this column"
   ]
  },
  {
   "cell_type": "code",
   "execution_count": 165,
   "metadata": {},
   "outputs": [
    {
     "data": {
      "text/plain": [
       "str"
      ]
     },
     "execution_count": 165,
     "metadata": {},
     "output_type": "execute_result"
    }
   ],
   "source": [
    "type(birddata.date_time[0])"
   ]
  },
  {
   "cell_type": "code",
   "execution_count": 166,
   "metadata": {},
   "outputs": [
    {
     "data": {
      "text/plain": [
       "'2013-08-15 00:18:08+00'"
      ]
     },
     "execution_count": 166,
     "metadata": {},
     "output_type": "execute_result"
    }
   ],
   "source": [
    "birddata.date_time[0]"
   ]
  },
  {
   "cell_type": "markdown",
   "metadata": {},
   "source": [
    "datetime in our dataset is in str format and to be able to perform computation - computing time interval between two data points - on datetime we would like it convert to a datetime object"
   ]
  },
  {
   "cell_type": "code",
   "execution_count": 167,
   "metadata": {},
   "outputs": [],
   "source": [
    "import datetime as dt\n",
    "# remove '+00 from the strings as the time is already in UTC'\n",
    "timestamps = birddata.date_time\n",
    "timestamps = [stamp[:-3] for stamp in timestamps]"
   ]
  },
  {
   "cell_type": "code",
   "execution_count": 168,
   "metadata": {},
   "outputs": [
    {
     "data": {
      "text/plain": [
       "['2013-08-15 00:18:08', '2013-08-15 00:48:07', '2013-08-15 01:17:58']"
      ]
     },
     "execution_count": 168,
     "metadata": {},
     "output_type": "execute_result"
    }
   ],
   "source": [
    "timestamps[:3]"
   ]
  },
  {
   "cell_type": "code",
   "execution_count": 169,
   "metadata": {},
   "outputs": [],
   "source": [
    "# convert str to a datetime object to be able to perform arithmetic operation on it\n",
    "timestamps = list(map(lambda str_stamp: dt.datetime.strptime(\n",
    "    str_stamp, \"%Y-%m-%d %H:%M:%S\"), timestamps))"
   ]
  },
  {
   "cell_type": "code",
   "execution_count": 176,
   "metadata": {},
   "outputs": [
    {
     "name": "stderr",
     "output_type": "stream",
     "text": [
      "<ipython-input-176-c00b406e24ba>:1: SettingWithCopyWarning: \n",
      "A value is trying to be set on a copy of a slice from a DataFrame.\n",
      "Try using .loc[row_indexer,col_indexer] = value instead\n",
      "\n",
      "See the caveats in the documentation: https://pandas.pydata.org/pandas-docs/stable/user_guide/indexing.html#returning-a-view-versus-a-copy\n",
      "  birddata[\"timestamp\"] = pd.Series(timestamps, index=birddata.index)\n"
     ]
    }
   ],
   "source": [
    "birddata[\"timestamp\"] = pd.Series(timestamps, index=birddata.index)"
   ]
  },
  {
   "cell_type": "code",
   "execution_count": 177,
   "metadata": {},
   "outputs": [
    {
     "data": {
      "text/html": [
       "<div>\n",
       "<style scoped>\n",
       "    .dataframe tbody tr th:only-of-type {\n",
       "        vertical-align: middle;\n",
       "    }\n",
       "\n",
       "    .dataframe tbody tr th {\n",
       "        vertical-align: top;\n",
       "    }\n",
       "\n",
       "    .dataframe thead th {\n",
       "        text-align: right;\n",
       "    }\n",
       "</style>\n",
       "<table border=\"1\" class=\"dataframe\">\n",
       "  <thead>\n",
       "    <tr style=\"text-align: right;\">\n",
       "      <th></th>\n",
       "      <th>altitude</th>\n",
       "      <th>date_time</th>\n",
       "      <th>device_info_serial</th>\n",
       "      <th>direction</th>\n",
       "      <th>latitude</th>\n",
       "      <th>longitude</th>\n",
       "      <th>speed_2d</th>\n",
       "      <th>bird_name</th>\n",
       "      <th>timestamp</th>\n",
       "    </tr>\n",
       "  </thead>\n",
       "  <tbody>\n",
       "    <tr>\n",
       "      <th>61914</th>\n",
       "      <td>-10</td>\n",
       "      <td>2014-04-30 21:29:45+00</td>\n",
       "      <td>833</td>\n",
       "      <td>-10.057916</td>\n",
       "      <td>51.352661</td>\n",
       "      <td>3.177122</td>\n",
       "      <td>5.531148</td>\n",
       "      <td>Sanne</td>\n",
       "      <td>2014-04-30 21:29:45</td>\n",
       "    </tr>\n",
       "    <tr>\n",
       "      <th>61915</th>\n",
       "      <td>11</td>\n",
       "      <td>2014-04-30 22:00:08+00</td>\n",
       "      <td>833</td>\n",
       "      <td>45.448157</td>\n",
       "      <td>51.352572</td>\n",
       "      <td>3.177151</td>\n",
       "      <td>0.208087</td>\n",
       "      <td>Sanne</td>\n",
       "      <td>2014-04-30 22:00:08</td>\n",
       "    </tr>\n",
       "    <tr>\n",
       "      <th>61916</th>\n",
       "      <td>6</td>\n",
       "      <td>2014-04-30 22:29:57+00</td>\n",
       "      <td>833</td>\n",
       "      <td>-112.073055</td>\n",
       "      <td>51.352585</td>\n",
       "      <td>3.177144</td>\n",
       "      <td>1.522662</td>\n",
       "      <td>Sanne</td>\n",
       "      <td>2014-04-30 22:29:57</td>\n",
       "    </tr>\n",
       "    <tr>\n",
       "      <th>61917</th>\n",
       "      <td>5</td>\n",
       "      <td>2014-04-30 22:59:52+00</td>\n",
       "      <td>833</td>\n",
       "      <td>69.989037</td>\n",
       "      <td>51.352622</td>\n",
       "      <td>3.177257</td>\n",
       "      <td>3.120545</td>\n",
       "      <td>Sanne</td>\n",
       "      <td>2014-04-30 22:59:52</td>\n",
       "    </tr>\n",
       "    <tr>\n",
       "      <th>61918</th>\n",
       "      <td>16</td>\n",
       "      <td>2014-04-30 23:29:43+00</td>\n",
       "      <td>833</td>\n",
       "      <td>88.376373</td>\n",
       "      <td>51.354641</td>\n",
       "      <td>3.181509</td>\n",
       "      <td>0.592115</td>\n",
       "      <td>Sanne</td>\n",
       "      <td>2014-04-30 23:29:43</td>\n",
       "    </tr>\n",
       "  </tbody>\n",
       "</table>\n",
       "</div>"
      ],
      "text/plain": [
       "       altitude               date_time  device_info_serial  ...  speed_2d  bird_name           timestamp\n",
       "61914       -10  2014-04-30 21:29:45+00                 833  ...  5.531148      Sanne 2014-04-30 21:29:45\n",
       "61915        11  2014-04-30 22:00:08+00                 833  ...  0.208087      Sanne 2014-04-30 22:00:08\n",
       "61916         6  2014-04-30 22:29:57+00                 833  ...  1.522662      Sanne 2014-04-30 22:29:57\n",
       "61917         5  2014-04-30 22:59:52+00                 833  ...  3.120545      Sanne 2014-04-30 22:59:52\n",
       "61918        16  2014-04-30 23:29:43+00                 833  ...  0.592115      Sanne 2014-04-30 23:29:43\n",
       "\n",
       "[5 rows x 9 columns]"
      ]
     },
     "execution_count": 177,
     "metadata": {},
     "output_type": "execute_result"
    }
   ],
   "source": [
    "birddata.tail()"
   ]
  },
  {
   "cell_type": "code",
   "execution_count": 180,
   "metadata": {},
   "outputs": [
    {
     "data": {
      "text/plain": [
       "Timestamp('2013-08-15 00:18:08')"
      ]
     },
     "execution_count": 180,
     "metadata": {},
     "output_type": "execute_result"
    }
   ],
   "source": [
    "birddata.timestamp[0]"
   ]
  },
  {
   "cell_type": "code",
   "execution_count": null,
   "metadata": {},
   "outputs": [],
   "source": []
  }
 ],
 "metadata": {
  "kernelspec": {
   "display_name": "Python 3",
   "language": "python",
   "name": "python3"
  },
  "language_info": {
   "codemirror_mode": {
    "name": "ipython",
    "version": 3
   },
   "file_extension": ".py",
   "mimetype": "text/x-python",
   "name": "python",
   "nbconvert_exporter": "python",
   "pygments_lexer": "ipython3",
   "version": "3.8.3"
  },
  "varInspector": {
   "cols": {
    "lenName": 16,
    "lenType": 16,
    "lenVar": 40
   },
   "kernels_config": {
    "python": {
     "delete_cmd_postfix": "",
     "delete_cmd_prefix": "del ",
     "library": "var_list.py",
     "varRefreshCmd": "print(var_dic_list())"
    },
    "r": {
     "delete_cmd_postfix": ") ",
     "delete_cmd_prefix": "rm(",
     "library": "var_list.r",
     "varRefreshCmd": "cat(var_dic_list()) "
    }
   },
   "types_to_exclude": [
    "module",
    "function",
    "builtin_function_or_method",
    "instance",
    "_Feature"
   ],
   "window_display": false
  }
 },
 "nbformat": 4,
 "nbformat_minor": 4
}
