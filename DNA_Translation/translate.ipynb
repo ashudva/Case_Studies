{
 "cells": [
  {
   "cell_type": "markdown",
   "metadata": {},
   "source": [
    "## Central dogma of molecular biology that describes the basic flow of genetic information"
   ]
  },
  {
   "cell_type": "code",
   "execution_count": 16,
   "metadata": {},
   "outputs": [],
   "source": [
    "# DNA -> RNA -> Proteins\n",
    "# DNA: Sequence of characters where,\n",
    "#       each character belongs to {A,G,C,T}\n",
    "# Nucleotide/Triplet: Sequence of three characters -> Amino Acid\n",
    "# Total amino acids: 20\n",
    "# Sequence of amino acids -> Proteins\n",
    "# dna.txt      -> DNA sequence\n",
    "# protein.txt  -> Translated Protein\n",
    "# accession number: NM_201917.1\n",
    "# Source of gene: Mus musculus (house mouse)"
   ]
  },
  {
   "cell_type": "markdown",
   "metadata": {},
   "source": [
    "NCBI Data is used for this case study ->\n",
    "[Link for Data](https://www.ncbi.nlm.nih.gov/nuccore/NM_207618.2)"
   ]
  },
  {
   "cell_type": "code",
   "execution_count": 17,
   "metadata": {},
   "outputs": [],
   "source": [
    "# Import Data and remove special characters\n",
    "def process_data(file):\n",
    "    \"\"\"file: (string) name of the text file to process\n",
    "       1. Removes special characters \n",
    "       2. Return a DNA sequence\"\"\"\n",
    "\n",
    "    with open(file) as f:\n",
    "        seq = f.read()\n",
    "    seq = seq.replace(\"\\n\", \"\")\n",
    "    seq = seq.replace(\"\\r\", \"\")\n",
    "    return seq\n",
    "\n",
    "\n",
    "dna = process_data(\"dna.txt\")\n",
    "prt = process_data(\"protein.txt\")"
   ]
  },
  {
   "cell_type": "code",
   "execution_count": 18,
   "metadata": {},
   "outputs": [],
   "source": [
    "# DNA Translation to Protein\n",
    "\n",
    "def translate(seq):\n",
    "    \"\"\"Translate a string containing a nucleotide sequence into a string \n",
    "    containing the corresponding sequence of amino acids. \n",
    "    Nucleotides are translated in triplets using the table dictionary; each amino acid\n",
    "    is encoded with a string of length 1.\"\"\"\n",
    "\n",
    "    table = {\n",
    "        'ATA': 'I',\n",
    "        'ATC': 'I',\n",
    "        'ATT': 'I',\n",
    "        'ATG': 'M',\n",
    "        'ACA': 'T',\n",
    "        'ACC': 'T',\n",
    "        'ACG': 'T',\n",
    "        'ACT': 'T',\n",
    "        'AAC': 'N',\n",
    "        'AAT': 'N',\n",
    "        'AAA': 'K',\n",
    "        'AAG': 'K',\n",
    "        'AGC': 'S',\n",
    "        'AGT': 'S',\n",
    "        'AGA': 'R',\n",
    "        'AGG': 'R',\n",
    "        'CTA': 'L',\n",
    "        'CTC': 'L',\n",
    "        'CTG': 'L',\n",
    "        'CTT': 'L',\n",
    "        'CCA': 'P',\n",
    "        'CCC': 'P',\n",
    "        'CCG': 'P',\n",
    "        'CCT': 'P',\n",
    "        'CAC': 'H',\n",
    "        'CAT': 'H',\n",
    "        'CAA': 'Q',\n",
    "        'CAG': 'Q',\n",
    "        'CGA': 'R',\n",
    "        'CGC': 'R',\n",
    "        'CGG': 'R',\n",
    "        'CGT': 'R',\n",
    "        'GTA': 'V',\n",
    "        'GTC': 'V',\n",
    "        'GTG': 'V',\n",
    "        'GTT': 'V',\n",
    "        'GCA': 'A',\n",
    "        'GCC': 'A',\n",
    "        'GCG': 'A',\n",
    "        'GCT': 'A',\n",
    "        'GAC': 'D',\n",
    "        'GAT': 'D',\n",
    "        'GAA': 'E',\n",
    "        'GAG': 'E',\n",
    "        'GGA': 'G',\n",
    "        'GGC': 'G',\n",
    "        'GGG': 'G',\n",
    "        'GGT': 'G',\n",
    "        'TCA': 'S',\n",
    "        'TCC': 'S',\n",
    "        'TCG': 'S',\n",
    "        'TCT': 'S',\n",
    "        'TTC': 'F',\n",
    "        'TTT': 'F',\n",
    "        'TTA': 'L',\n",
    "        'TTG': 'L',\n",
    "        'TAC': 'Y',\n",
    "        'TAT': 'Y',\n",
    "        'TAA': '_',\n",
    "        'TAG': '_',\n",
    "        'TGC': 'C',\n",
    "        'TGT': 'C',\n",
    "        'TGA': '_',\n",
    "        'TGG': 'W',\n",
    "    }\n",
    "\n",
    "    seq_len = len(seq)\n",
    "    if seq_len % 3 == 0:\n",
    "        protein = \"\"\n",
    "        for i in range(0, seq_len, 3):\n",
    "            codon = seq[i:i + 3]\n",
    "            protein += table[codon]\n",
    "        return protein\n",
    "    else:\n",
    "        return f\"Invalid Input Sequence, len = {seq_len}\""
   ]
  },
  {
   "cell_type": "code",
   "execution_count": 19,
   "metadata": {},
   "outputs": [
    {
     "data": {
      "text/plain": [
       "True"
      ]
     },
     "execution_count": 19,
     "metadata": {},
     "output_type": "execute_result"
    }
   ],
   "source": [
    "# 21 and 938 are start and end of DNA sequence\n",
    "# Sice last codon is stop codon so we remove that\n",
    "translate(dna[20:935]) == prt"
   ]
  },
  {
   "cell_type": "code",
   "execution_count": 20,
   "metadata": {},
   "outputs": [
    {
     "data": {
      "text/plain": [
       "True"
      ]
     },
     "execution_count": 20,
     "metadata": {},
     "output_type": "execute_result"
    }
   ],
   "source": [
    "translate(dna[20:938])[:-1] == translate(dna[20:935])"
   ]
  }
 ],
 "metadata": {
  "kernelspec": {
   "display_name": "Python 3",
   "language": "python",
   "name": "python3"
  },
  "language_info": {
   "codemirror_mode": {
    "name": "ipython",
    "version": 3
   },
   "file_extension": ".py",
   "mimetype": "text/x-python",
   "name": "python",
   "nbconvert_exporter": "python",
   "pygments_lexer": "ipython3",
   "version": "3.8.3"
  },
  "toc": {
   "base_numbering": 1,
   "nav_menu": {},
   "number_sections": true,
   "sideBar": true,
   "skip_h1_title": false,
   "title_cell": "Table of Contents",
   "title_sidebar": "Contents",
   "toc_cell": false,
   "toc_position": {},
   "toc_section_display": true,
   "toc_window_display": false
  },
  "varInspector": {
   "cols": {
    "lenName": 16,
    "lenType": 16,
    "lenVar": 40
   },
   "kernels_config": {
    "python": {
     "delete_cmd_postfix": "",
     "delete_cmd_prefix": "del ",
     "library": "var_list.py",
     "varRefreshCmd": "print(var_dic_list())"
    },
    "r": {
     "delete_cmd_postfix": ") ",
     "delete_cmd_prefix": "rm(",
     "library": "var_list.r",
     "varRefreshCmd": "cat(var_dic_list()) "
    }
   },
   "types_to_exclude": [
    "module",
    "function",
    "builtin_function_or_method",
    "instance",
    "_Feature"
   ],
   "window_display": false
  }
 },
 "nbformat": 4,
 "nbformat_minor": 2
}
