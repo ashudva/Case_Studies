{
 "cells": [
  {
   "cell_type": "code",
   "execution_count": 1,
   "metadata": {},
   "outputs": [
    {
     "name": "stderr",
     "output_type": "stream",
     "text": [
      "/usr/lib/python3/dist-packages/ipykernel_launcher.py:2: DeprecationWarning: time.clock has been deprecated in Python 3.3 and will be removed from Python 3.8: use time.perf_counter or time.process_time instead\n",
      "  \n"
     ]
    }
   ],
   "source": [
    "import collections, time\n",
    "start = time.clock()"
   ]
  },
  {
   "cell_type": "code",
   "execution_count": 2,
   "metadata": {},
   "outputs": [
    {
     "name": "stdout",
     "output_type": "stream",
     "text": [
      "20\n"
     ]
    }
   ],
   "source": [
    "text = \"Learn, How to write your own function; To' count. the number of times a unique word appears in a given string text\"\n",
    "\n",
    "\n",
    "def count_words(text):\n",
    "    text = text.lower()\n",
    "    skips = [\",\", \".\", \"'\", '\"', \";\", \":\", \"(\", \")\", \"`\"]\n",
    "    for ch in skips:\n",
    "        text = text.replace(ch, \"\")\n",
    "    word_counts = {}\n",
    "    for word in text.split(\" \"):\n",
    "        if word in word_counts:\n",
    "            word_counts[word] += 1\n",
    "        else:\n",
    "            word_counts[word] = 1\n",
    "    return word_counts\n",
    "\n",
    "\n",
    "def count_words_fast(text):\n",
    "    text = text.lower()\n",
    "    skips = [\",\", \".\", \"'\", '\"', \";\", \":\", \"(\", \")\", \"`\"]\n",
    "    for ch in skips:\n",
    "        text = text.replace(ch, \"\")\n",
    "    word_counts = collections.Counter(text.split(\" \"))\n",
    "    return word_counts\n",
    "\n",
    "\n",
    "n = count_words_fast(text)\n",
    "print(len(n.values()))"
   ]
  },
  {
   "cell_type": "code",
   "execution_count": 3,
   "metadata": {},
   "outputs": [
    {
     "data": {
      "text/plain": [
       "6"
      ]
     },
     "execution_count": 3,
     "metadata": {},
     "output_type": "execute_result"
    }
   ],
   "source": [
    "len(count_words(\"This comprehension check is to check for comprehension.\"))"
   ]
  },
  {
   "cell_type": "code",
   "execution_count": 4,
   "metadata": {},
   "outputs": [
    {
     "data": {
      "text/plain": [
       "False"
      ]
     },
     "execution_count": 4,
     "metadata": {},
     "output_type": "execute_result"
    }
   ],
   "source": [
    "count_words(text) is count_words_fast(text)"
   ]
  },
  {
   "cell_type": "code",
   "execution_count": 5,
   "metadata": {},
   "outputs": [],
   "source": [
    "def read_book(title_path):\n",
    "    with open(title_path, \"r\", encoding=\"utf8\") as current_book:\n",
    "        text = current_book.read()\n",
    "    text = text.replace(\"\\n\", \"\").replace(\"\\r\", \"\")\n",
    "    return text\n",
    "\n",
    "book = read_book(\"./Books/English/shakespeare/Romeo and Juliet.txt\")"
   ]
  },
  {
   "cell_type": "code",
   "execution_count": 6,
   "metadata": {
    "scrolled": true
   },
   "outputs": [
    {
     "data": {
      "text/plain": [
       "\"What's in a name? That which we call a rose    By any other name would smell as sweet.    So Romeo would, were he not Romeo call'd,    Retain that dear perfection which he owes    Without that title. Romeo, doff thy name;    And for that name, which is no part of thee,    Take all myself.  Rom. I take thee at thy word.    Call me but love, and I'll be new baptiz'd;    Henceforth I never will be Romeo.  Jul. What man art thou that, thus bescreen'd in night,    So stumblest on my counsel?  Rom. By a name    I know not how to tell thee who I am.    My name, dear saint, is hateful to myself,    Because it is an enemy to thee.    Had I it written, I would tear the word.  Jul. My ears have yet not drunk a hundred words    Of that tongue's utterance, yet I know the sound.    Art thou not Romeo, and a Montague?  Rom. Neither, fair saint, if either thee dislike.  Jul. How cam'st thou hither, tell me, and wherefore?    The orchard walls are high and hard to climb,    And the place death, conside\""
      ]
     },
     "execution_count": 6,
     "metadata": {},
     "output_type": "execute_result"
    }
   ],
   "source": [
    "ind = book.find(\"What's in a name?\")\n",
    "book[ind: ind+1000]"
   ]
  },
  {
   "cell_type": "code",
   "execution_count": 7,
   "metadata": {},
   "outputs": [
    {
     "name": "stdout",
     "output_type": "stream",
     "text": [
      "Title: Romeo and Juliet\n",
      "\n",
      "English\n",
      "No. of unique words: 5083\n",
      "Total Words: 40776\n",
      "\n",
      "German\n",
      "No. of unique words: 7485\n",
      "Total Words: 20311\n"
     ]
    }
   ],
   "source": [
    "def word_stats(word_counts):\n",
    "    num_unique_words = len(word_counts)\n",
    "    count = word_counts.values()\n",
    "    return (num_unique_words, count)\n",
    "\n",
    "book1 = read_book(\"Books/English/shakespeare/Romeo and Juliet.txt\")\n",
    "(num_unique_words, count) = word_stats(count_words_fast(book1))\n",
    "print(f\"Title: Romeo and Juliet\\n\\nEnglish\\nNo. of unique words: {num_unique_words}\\nTotal Words: {sum(count)}\")\n",
    "book2 = read_book(\"./Books/German/shakespeare/Romeo und Julia.txt\")\n",
    "(num_unique_words, count) = word_stats(count_words_fast(book2))\n",
    "print(f\"\\nGerman\\nNo. of unique words: {num_unique_words}\\nTotal Words: {sum(count)}\")"
   ]
  },
  {
   "cell_type": "code",
   "execution_count": 8,
   "metadata": {},
   "outputs": [
    {
     "name": "stdout",
     "output_type": "stream",
     "text": [
      "Der Barometermacher auf der Zauberinsel\n",
      "Das MÑdchen aus der Feenwelt\n",
      "Der Alpenkînig und der Menschenfeind\n",
      "Der Verschwender\n",
      "Die gefesselte Phantasie\n",
      "Moisasurs Zauberfluch\n",
      "Der Diamant des Geisterkînigs\n",
      "Die unheilbringende Krone\n",
      "der junge gelehrte\n",
      "philotas\n",
      "der freigeist\n",
      "die juden\n",
      "hamburgische dramaturgie\n",
      "minna von barnhelm\n",
      "miss sara sampson\n",
      "emilia galotti\n",
      "Die Verschwîrung des Fiesco zu Genua\n",
      "Die Piccolomini\n",
      "Wallensteins Tod\n",
      "Kabale und Liebe\n",
      "Die Huldigung der KÅnste\n",
      "die braut von messina\n",
      "Wallensteins Lager\n",
      "Die Jungfrau von Orleans\n",
      "Der Neffe als Onkel\n",
      "Turandot, Prinzessin von China\n",
      "Der Parasit, oder die Kunst, sein GlÅck zu machen\n",
      "Othello\n",
      "Der Kaufmann von Venedig\n",
      "Richard III\n",
      "Ein Sommernachtstraum\n",
      "Romeo und Julia\n",
      "Macbeth\n",
      "Hamlet\n",
      "Os fidalgos da Casa Mourisca\n",
      "Uma fam°lia ingleza\n",
      "A Morgadinha dos Cannaviaes\n",
      "A Rel°quia\n",
      "A Cidade e as Serras\n",
      "O crime do padre Amaro\n",
      "Os Maias\n",
      "O Mandarim\n",
      "O Primo Bazilio\n",
      "A Illustre Casa de Ramires\n",
      "Cartas de Inglaterra\n",
      "A correspondància de Fradique Mendes\n",
      "Hamlet\n",
      "Agulha em Palheiro\n",
      "Estrellas Funestas\n",
      "O que fazem mulheres\n",
      "Scenas Contemporaneas\n",
      "Annos de Prosa\n",
      "A Queda d'um Anjo\n",
      "A Neta do Arcediago\n",
      "Livro de Consolação\n",
      "O Olho de Vidro\n",
      "Lagrimas Abenáoadas\n",
      "O Regicida\n",
      "Carlota Angela\n",
      "Amor de Perdição\n",
      "A Filha do Arcediago\n",
      "Amor de Salvação\n",
      "Estrellas Prop°cias\n",
      "L'oiseau blanc\n",
      "Ceci n'est pas un conte\n",
      "Regrets sur ma vieille robe de chambre\n",
      "Entretien d'un päre avec ses enfants\n",
      "Les deux amis de Bourbonne\n",
      "Le poâme de Myrza\n",
      "Le Piccinino\n",
      "cora\n",
      "Jacques le fataliste et son maåtre\n",
      "Pauline\n",
      "La Coupe; Lupo Liverani; Le Toast; Garnier; Le Contrebandier; La Ràverie Ö Paris\n",
      "La Marquise\n",
      "Mattea\n",
      "Oeuvres illustrÇes de George Sand\n",
      "Metella\n",
      "L' Orco\n",
      "La fille des indiens rouges\n",
      "La fille du pirate\n",
      "Les derniers Iroquois\n",
      "La capitaine\n",
      "L'åle de sable\n",
      "Le chasseur noir\n",
      "L'enfer et le paradis de l'autre monde\n",
      "Contes de la Becasse\n",
      "Œuvres complètes de Guy de Maupassant\n",
      "Claire de Lune\n",
      "La petite roque\n",
      "L'inutile beautÇ\n",
      "Le Horla\n",
      "La Maison Tellier\n",
      "La Main Gauche\n",
      "Boule de Suif\n",
      "Othello\n",
      "Richard III\n",
      "A Midsummer Night's Dream\n",
      "The Merchant of Venice\n",
      "Romeo and Juliet\n",
      "Macbeth\n",
      "Hamlet\n"
     ]
    },
    {
     "data": {
      "text/html": [
       "<div>\n",
       "<style scoped>\n",
       "    .dataframe tbody tr th:only-of-type {\n",
       "        vertical-align: middle;\n",
       "    }\n",
       "\n",
       "    .dataframe tbody tr th {\n",
       "        vertical-align: top;\n",
       "    }\n",
       "\n",
       "    .dataframe thead th {\n",
       "        text-align: right;\n",
       "    }\n",
       "</style>\n",
       "<table border=\"1\" class=\"dataframe\">\n",
       "  <thead>\n",
       "    <tr style=\"text-align: right;\">\n",
       "      <th></th>\n",
       "      <th>language</th>\n",
       "      <th>author</th>\n",
       "      <th>title</th>\n",
       "      <th>length</th>\n",
       "      <th>unique</th>\n",
       "    </tr>\n",
       "  </thead>\n",
       "  <tbody>\n",
       "    <tr>\n",
       "      <th>1</th>\n",
       "      <td>German</td>\n",
       "      <td>Raimund</td>\n",
       "      <td>Der Barometermacher auf der Zauberinsel</td>\n",
       "      <td>16032</td>\n",
       "      <td>5204</td>\n",
       "    </tr>\n",
       "    <tr>\n",
       "      <th>2</th>\n",
       "      <td>German</td>\n",
       "      <td>Raimund</td>\n",
       "      <td>Das MÑdchen aus der Feenwelt</td>\n",
       "      <td>21040</td>\n",
       "      <td>6310</td>\n",
       "    </tr>\n",
       "    <tr>\n",
       "      <th>3</th>\n",
       "      <td>German</td>\n",
       "      <td>Raimund</td>\n",
       "      <td>Der Alpenkînig und der Menschenfeind</td>\n",
       "      <td>21802</td>\n",
       "      <td>6841</td>\n",
       "    </tr>\n",
       "    <tr>\n",
       "      <th>4</th>\n",
       "      <td>German</td>\n",
       "      <td>Raimund</td>\n",
       "      <td>Der Verschwender</td>\n",
       "      <td>25106</td>\n",
       "      <td>7189</td>\n",
       "    </tr>\n",
       "    <tr>\n",
       "      <th>5</th>\n",
       "      <td>German</td>\n",
       "      <td>Raimund</td>\n",
       "      <td>Die gefesselte Phantasie</td>\n",
       "      <td>16651</td>\n",
       "      <td>5681</td>\n",
       "    </tr>\n",
       "  </tbody>\n",
       "</table>\n",
       "</div>"
      ],
      "text/plain": [
       "  language   author                                    title length unique\n",
       "1   German  Raimund  Der Barometermacher auf der Zauberinsel  16032   5204\n",
       "2   German  Raimund            Das MÑdchen aus der Feenwelt  21040   6310\n",
       "3   German  Raimund    Der Alpenkînig und der Menschenfeind  21802   6841\n",
       "4   German  Raimund                         Der Verschwender  25106   7189\n",
       "5   German  Raimund                 Die gefesselte Phantasie  16651   5681"
      ]
     },
     "execution_count": 8,
     "metadata": {},
     "output_type": "execute_result"
    }
   ],
   "source": [
    "# Read all the books\n",
    "import pandas as pd\n",
    "import os\n",
    "\n",
    "books = pd.DataFrame(columns = (\"language\", \"author\", \"title\", \"length\", \"unique\"))\n",
    "row = 1\n",
    "book_dir = \"./Books/\"\n",
    "for language in os.listdir(book_dir):\n",
    "    for author in os.listdir(book_dir + \"/\" + language):\n",
    "        for title in os.listdir(book_dir + \"/\" + language + \"/\" + author):\n",
    "            input_file = book_dir + \"/\" + language + \"/\" + author + \"/\" + title\n",
    "            print(title.replace(\".txt\", \"\"))\n",
    "            text = read_book(input_file)\n",
    "            (num_unique_words, count) = word_stats(count_words_fast(text))\n",
    "            books.loc[row] = language, author.capitalize(), title.replace(\".txt\", \"\"), sum(count), num_unique_words\n",
    "            row += 1\n",
    "            \n",
    "books.head()"
   ]
  },
  {
   "cell_type": "code",
   "execution_count": 9,
   "metadata": {},
   "outputs": [
    {
     "data": {
      "text/html": [
       "<div>\n",
       "<style scoped>\n",
       "    .dataframe tbody tr th:only-of-type {\n",
       "        vertical-align: middle;\n",
       "    }\n",
       "\n",
       "    .dataframe tbody tr th {\n",
       "        vertical-align: top;\n",
       "    }\n",
       "\n",
       "    .dataframe thead th {\n",
       "        text-align: right;\n",
       "    }\n",
       "</style>\n",
       "<table border=\"1\" class=\"dataframe\">\n",
       "  <thead>\n",
       "    <tr style=\"text-align: right;\">\n",
       "      <th></th>\n",
       "      <th>language</th>\n",
       "      <th>author</th>\n",
       "      <th>title</th>\n",
       "      <th>length</th>\n",
       "      <th>unique</th>\n",
       "    </tr>\n",
       "  </thead>\n",
       "  <tbody>\n",
       "    <tr>\n",
       "      <th>1</th>\n",
       "      <td>German</td>\n",
       "      <td>Raimund</td>\n",
       "      <td>Der Barometermacher auf der Zauberinsel</td>\n",
       "      <td>16032</td>\n",
       "      <td>5204</td>\n",
       "    </tr>\n",
       "    <tr>\n",
       "      <th>2</th>\n",
       "      <td>German</td>\n",
       "      <td>Raimund</td>\n",
       "      <td>Das MÑdchen aus der Feenwelt</td>\n",
       "      <td>21040</td>\n",
       "      <td>6310</td>\n",
       "    </tr>\n",
       "    <tr>\n",
       "      <th>3</th>\n",
       "      <td>German</td>\n",
       "      <td>Raimund</td>\n",
       "      <td>Der Alpenkînig und der Menschenfeind</td>\n",
       "      <td>21802</td>\n",
       "      <td>6841</td>\n",
       "    </tr>\n",
       "    <tr>\n",
       "      <th>4</th>\n",
       "      <td>German</td>\n",
       "      <td>Raimund</td>\n",
       "      <td>Der Verschwender</td>\n",
       "      <td>25106</td>\n",
       "      <td>7189</td>\n",
       "    </tr>\n",
       "    <tr>\n",
       "      <th>5</th>\n",
       "      <td>German</td>\n",
       "      <td>Raimund</td>\n",
       "      <td>Die gefesselte Phantasie</td>\n",
       "      <td>16651</td>\n",
       "      <td>5681</td>\n",
       "    </tr>\n",
       "    <tr>\n",
       "      <th>...</th>\n",
       "      <td>...</td>\n",
       "      <td>...</td>\n",
       "      <td>...</td>\n",
       "      <td>...</td>\n",
       "      <td>...</td>\n",
       "    </tr>\n",
       "    <tr>\n",
       "      <th>98</th>\n",
       "      <td>English</td>\n",
       "      <td>Shakespeare</td>\n",
       "      <td>A Midsummer Night's Dream</td>\n",
       "      <td>16103</td>\n",
       "      <td>4345</td>\n",
       "    </tr>\n",
       "    <tr>\n",
       "      <th>99</th>\n",
       "      <td>English</td>\n",
       "      <td>Shakespeare</td>\n",
       "      <td>The Merchant of Venice</td>\n",
       "      <td>20949</td>\n",
       "      <td>4978</td>\n",
       "    </tr>\n",
       "    <tr>\n",
       "      <th>100</th>\n",
       "      <td>English</td>\n",
       "      <td>Shakespeare</td>\n",
       "      <td>Romeo and Juliet</td>\n",
       "      <td>40776</td>\n",
       "      <td>5083</td>\n",
       "    </tr>\n",
       "    <tr>\n",
       "      <th>101</th>\n",
       "      <td>English</td>\n",
       "      <td>Shakespeare</td>\n",
       "      <td>Macbeth</td>\n",
       "      <td>16874</td>\n",
       "      <td>4780</td>\n",
       "    </tr>\n",
       "    <tr>\n",
       "      <th>102</th>\n",
       "      <td>English</td>\n",
       "      <td>Shakespeare</td>\n",
       "      <td>Hamlet</td>\n",
       "      <td>28551</td>\n",
       "      <td>6776</td>\n",
       "    </tr>\n",
       "  </tbody>\n",
       "</table>\n",
       "<p>102 rows × 5 columns</p>\n",
       "</div>"
      ],
      "text/plain": [
       "    language       author                                    title length  \\\n",
       "1     German      Raimund  Der Barometermacher auf der Zauberinsel  16032   \n",
       "2     German      Raimund            Das MÑdchen aus der Feenwelt  21040   \n",
       "3     German      Raimund    Der Alpenkînig und der Menschenfeind  21802   \n",
       "4     German      Raimund                         Der Verschwender  25106   \n",
       "5     German      Raimund                 Die gefesselte Phantasie  16651   \n",
       "..       ...          ...                                      ...    ...   \n",
       "98   English  Shakespeare                A Midsummer Night's Dream  16103   \n",
       "99   English  Shakespeare                   The Merchant of Venice  20949   \n",
       "100  English  Shakespeare                         Romeo and Juliet  40776   \n",
       "101  English  Shakespeare                                  Macbeth  16874   \n",
       "102  English  Shakespeare                                   Hamlet  28551   \n",
       "\n",
       "    unique  \n",
       "1     5204  \n",
       "2     6310  \n",
       "3     6841  \n",
       "4     7189  \n",
       "5     5681  \n",
       "..     ...  \n",
       "98    4345  \n",
       "99    4978  \n",
       "100   5083  \n",
       "101   4780  \n",
       "102   6776  \n",
       "\n",
       "[102 rows x 5 columns]"
      ]
     },
     "execution_count": 9,
     "metadata": {},
     "output_type": "execute_result"
    }
   ],
   "source": [
    "books"
   ]
  },
  {
   "cell_type": "code",
   "execution_count": 10,
   "metadata": {},
   "outputs": [
    {
     "name": "stdout",
     "output_type": "stream",
     "text": [
      "1      16032\n",
      "2      21040\n",
      "3      21802\n",
      "4      25106\n",
      "5      16651\n",
      "       ...  \n",
      "98     16103\n",
      "99     20949\n",
      "100    40776\n",
      "101    16874\n",
      "102    28551\n",
      "Name: length, Length: 102, dtype: object\n",
      "1       German\n",
      "2       German\n",
      "3       German\n",
      "4       German\n",
      "5       German\n",
      "        ...   \n",
      "98     English\n",
      "99     English\n",
      "100    English\n",
      "101    English\n",
      "102    English\n",
      "Name: language, Length: 102, dtype: object\n"
     ]
    }
   ],
   "source": [
    "# Book stats analysis\n",
    "print(books.length)\n",
    "print(books.language)"
   ]
  },
  {
   "cell_type": "code",
   "execution_count": 11,
   "metadata": {},
   "outputs": [
    {
     "data": {
      "text/html": [
       "<div>\n",
       "<style scoped>\n",
       "    .dataframe tbody tr th:only-of-type {\n",
       "        vertical-align: middle;\n",
       "    }\n",
       "\n",
       "    .dataframe tbody tr th {\n",
       "        vertical-align: top;\n",
       "    }\n",
       "\n",
       "    .dataframe thead th {\n",
       "        text-align: right;\n",
       "    }\n",
       "</style>\n",
       "<table border=\"1\" class=\"dataframe\">\n",
       "  <thead>\n",
       "    <tr style=\"text-align: right;\">\n",
       "      <th></th>\n",
       "      <th>language</th>\n",
       "      <th>author</th>\n",
       "      <th>title</th>\n",
       "      <th>length</th>\n",
       "      <th>unique</th>\n",
       "    </tr>\n",
       "  </thead>\n",
       "  <tbody>\n",
       "    <tr>\n",
       "      <th>96</th>\n",
       "      <td>English</td>\n",
       "      <td>Shakespeare</td>\n",
       "      <td>Othello</td>\n",
       "      <td>26590</td>\n",
       "      <td>5898</td>\n",
       "    </tr>\n",
       "    <tr>\n",
       "      <th>97</th>\n",
       "      <td>English</td>\n",
       "      <td>Shakespeare</td>\n",
       "      <td>Richard III</td>\n",
       "      <td>48315</td>\n",
       "      <td>5428</td>\n",
       "    </tr>\n",
       "    <tr>\n",
       "      <th>98</th>\n",
       "      <td>English</td>\n",
       "      <td>Shakespeare</td>\n",
       "      <td>A Midsummer Night's Dream</td>\n",
       "      <td>16103</td>\n",
       "      <td>4345</td>\n",
       "    </tr>\n",
       "    <tr>\n",
       "      <th>99</th>\n",
       "      <td>English</td>\n",
       "      <td>Shakespeare</td>\n",
       "      <td>The Merchant of Venice</td>\n",
       "      <td>20949</td>\n",
       "      <td>4978</td>\n",
       "    </tr>\n",
       "    <tr>\n",
       "      <th>100</th>\n",
       "      <td>English</td>\n",
       "      <td>Shakespeare</td>\n",
       "      <td>Romeo and Juliet</td>\n",
       "      <td>40776</td>\n",
       "      <td>5083</td>\n",
       "    </tr>\n",
       "    <tr>\n",
       "      <th>101</th>\n",
       "      <td>English</td>\n",
       "      <td>Shakespeare</td>\n",
       "      <td>Macbeth</td>\n",
       "      <td>16874</td>\n",
       "      <td>4780</td>\n",
       "    </tr>\n",
       "    <tr>\n",
       "      <th>102</th>\n",
       "      <td>English</td>\n",
       "      <td>Shakespeare</td>\n",
       "      <td>Hamlet</td>\n",
       "      <td>28551</td>\n",
       "      <td>6776</td>\n",
       "    </tr>\n",
       "  </tbody>\n",
       "</table>\n",
       "</div>"
      ],
      "text/plain": [
       "    language       author                      title length unique\n",
       "96   English  Shakespeare                    Othello  26590   5898\n",
       "97   English  Shakespeare                Richard III  48315   5428\n",
       "98   English  Shakespeare  A Midsummer Night's Dream  16103   4345\n",
       "99   English  Shakespeare     The Merchant of Venice  20949   4978\n",
       "100  English  Shakespeare           Romeo and Juliet  40776   5083\n",
       "101  English  Shakespeare                    Macbeth  16874   4780\n",
       "102  English  Shakespeare                     Hamlet  28551   6776"
      ]
     },
     "execution_count": 11,
     "metadata": {},
     "output_type": "execute_result"
    }
   ],
   "source": [
    "books[books.language == \"English\"]"
   ]
  },
  {
   "cell_type": "code",
   "execution_count": 12,
   "metadata": {},
   "outputs": [
    {
     "data": {
      "image/png": "[encoded data removed]",
      "text/plain": [
       "<Figure size 432x288 with 1 Axes>"
      ]
     },
     "metadata": {
      "needs_background": "light"
     },
     "output_type": "display_data"
    }
   ],
   "source": [
    "import matplotlib.pyplot as plt\n",
    "\n",
    "plt.plot(books.length, books.unique, \"o\");\n",
    "plt.xlabel(\"Total words\")\n",
    "plt.ylabel(\"Unique words\")\n",
    "plt.title(\"Length vs Unique\")\n",
    "plt.savefig(\"./figures/len_unique.pdf\")"
   ]
  },
  {
   "cell_type": "code",
   "execution_count": 13,
   "metadata": {},
   "outputs": [
    {
     "data": {
      "image/png": "[encoded data removed]",
      "text/plain": [
       "<Figure size 432x288 with 1 Axes>"
      ]
     },
     "metadata": {
      "needs_background": "light"
     },
     "output_type": "display_data"
    }
   ],
   "source": [
    "plt.loglog(books.length, books.unique, \"o\");\n",
    "plt.xlabel(\"Total words\")\n",
    "plt.ylabel(\"Unique words\")\n",
    "plt.title(\"Length vs Unique\")\n",
    "plt.savefig(\"./figures/len_unique_loglog.pdf\")"
   ]
  },
  {
   "cell_type": "code",
   "execution_count": 14,
   "metadata": {},
   "outputs": [
    {
     "data": {
      "text/plain": [
       "array(['German', 'Portuguese', 'French', 'English'], dtype=object)"
      ]
     },
     "execution_count": 14,
     "metadata": {},
     "output_type": "execute_result"
    }
   ],
   "source": [
    "# Get the unique values from a column\n",
    "books.language.unique()"
   ]
  },
  {
   "cell_type": "code",
   "execution_count": 15,
   "metadata": {},
   "outputs": [
    {
     "data": {
      "image/png": "[encoded data removed]",
      "text/plain": [
       "<Figure size 720x720 with 1 Axes>"
      ]
     },
     "metadata": {
      "needs_background": "light"
     },
     "output_type": "display_data"
    }
   ],
   "source": [
    "plt.figure(figsize=(10,10))\n",
    "plt.xlabel(\"Total words\")\n",
    "plt.ylabel(\"Unique words\")\n",
    "plt.title(\"Words analysis\")\n",
    "languages = books.language.unique()\n",
    "colors = [\"#ff0000\", \"#00bfff\", \"#bfff00\", \"#ff00ff\"]\n",
    "for i in range(len(languages)):\n",
    "    subset = books[books.language == languages[i]]\n",
    "    plt.loglog(subset.length, subset.unique, \"o\",label = languages[i] , color = colors[i])\n",
    "plt.legend()\n",
    "plt.savefig(\"./figures/lang_analysis.pdf\")"
   ]
  },
  {
   "cell_type": "code",
   "execution_count": 16,
   "metadata": {},
   "outputs": [
    {
     "name": "stdout",
     "output_type": "stream",
     "text": [
      "lang_analysis.pdf  len_unique_loglog.pdf  len_unique.pdf\n",
      "3.064491\n"
     ]
    },
    {
     "name": "stderr",
     "output_type": "stream",
     "text": [
      "/usr/lib/python3/dist-packages/ipykernel_launcher.py:2: DeprecationWarning: time.clock has been deprecated in Python 3.3 and will be removed from Python 3.8: use time.perf_counter or time.process_time instead\n",
      "  \n"
     ]
    }
   ],
   "source": [
    "!cd figures/ && ls\n",
    "end = time.clock()\n",
    "print(end - start)"
   ]
  },
  {
   "cell_type": "code",
   "execution_count": null,
   "metadata": {},
   "outputs": [],
   "source": []
  }
 ],
 "metadata": {
  "kernelspec": {
   "display_name": "Python 3",
   "language": "python",
   "name": "python3"
  },
  "language_info": {
   "codemirror_mode": {
    "name": "ipython",
    "version": 3
   },
   "file_extension": ".py",
   "mimetype": "text/x-python",
   "name": "python",
   "nbconvert_exporter": "python",
   "pygments_lexer": "ipython3",
   "version": "3.7.5"
  },
  "toc": {
   "base_numbering": 1,
   "nav_menu": {},
   "number_sections": true,
   "sideBar": true,
   "skip_h1_title": false,
   "title_cell": "Table of Contents",
   "title_sidebar": "Contents",
   "toc_cell": false,
   "toc_position": {},
   "toc_section_display": true,
   "toc_window_display": false
  },
  "varInspector": {
   "cols": {
    "lenName": 16,
    "lenType": 16,
    "lenVar": 40
   },
   "kernels_config": {
    "python": {
     "delete_cmd_postfix": "",
     "delete_cmd_prefix": "del ",
     "library": "var_list.py",
     "varRefreshCmd": "print(var_dic_list())"
    },
    "r": {
     "delete_cmd_postfix": ") ",
     "delete_cmd_prefix": "rm(",
     "library": "var_list.r",
     "varRefreshCmd": "cat(var_dic_list()) "
    }
   },
   "types_to_exclude": [
    "module",
    "function",
    "builtin_function_or_method",
    "instance",
    "_Feature"
   ],
   "window_display": false
  }
 },
 "nbformat": 4,
 "nbformat_minor": 2
}
